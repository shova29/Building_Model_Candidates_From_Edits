{
  "nbformat": 4,
  "nbformat_minor": 0,
  "metadata": {
    "colab": {
      "name": "Building_Model_Candidates_From_Edits.ipynb",
      "provenance": [],
      "collapsed_sections": []
    },
    "kernelspec": {
      "name": "python3",
      "display_name": "Python 3"
    },
    "language_info": {
      "name": "python"
    }
  },
  "cells": [
    {
      "cell_type": "markdown",
      "metadata": {
        "id": "mAvD_l8LA7ib"
      },
      "source": [
        "**Candidates from String Edits**\n",
        "\n",
        "Create a list of candidate strings by applying an edit operation\n",
        "\n",
        "**Imports and Data**"
      ]
    },
    {
      "cell_type": "code",
      "metadata": {
        "id": "8xK0F65o_j5k"
      },
      "source": [
        "# data\n",
        "word = 'dearz' # 🦌"
      ],
      "execution_count": 1,
      "outputs": []
    },
    {
      "cell_type": "markdown",
      "metadata": {
        "id": "k0cSrkrYA6Qa"
      },
      "source": [
        "**Splits**\n",
        "\n",
        "Find all the ways you can split a word into 2 parts !\n"
      ]
    },
    {
      "cell_type": "code",
      "metadata": {
        "colab": {
          "base_uri": "https://localhost:8080/"
        },
        "id": "AFZyi8L7BE7l",
        "outputId": "1e4ad2c1-54c9-4366-c121-973ad58d84c6"
      },
      "source": [
        "# splits with a loop\n",
        "splits_a = []\n",
        "for i in range(len(word)+1):\n",
        "    splits_a.append([word[:i],word[i:]])\n",
        "\n",
        "for i in splits_a:\n",
        "    print(i)"
      ],
      "execution_count": 2,
      "outputs": [
        {
          "output_type": "stream",
          "name": "stdout",
          "text": [
            "['', 'dearz']\n",
            "['d', 'earz']\n",
            "['de', 'arz']\n",
            "['dea', 'rz']\n",
            "['dear', 'z']\n",
            "['dearz', '']\n"
          ]
        }
      ]
    },
    {
      "cell_type": "code",
      "metadata": {
        "colab": {
          "base_uri": "https://localhost:8080/"
        },
        "id": "XMvzKK9dBH4K",
        "outputId": "48e4cbca-41d9-45d1-c8c6-9fca6402ec2d"
      },
      "source": [
        "# same splits, done using a list comprehension\n",
        "splits_b = [(word[:i], word[i:]) for i in range(len(word) + 1)]\n",
        "\n",
        "for i in splits_b:\n",
        "    print(i)"
      ],
      "execution_count": 3,
      "outputs": [
        {
          "output_type": "stream",
          "name": "stdout",
          "text": [
            "('', 'dearz')\n",
            "('d', 'earz')\n",
            "('de', 'arz')\n",
            "('dea', 'rz')\n",
            "('dear', 'z')\n",
            "('dearz', '')\n"
          ]
        }
      ]
    },
    {
      "cell_type": "markdown",
      "metadata": {
        "id": "odD51It4TiBn"
      },
      "source": [
        "**Delete Edit**\n",
        "\n",
        "Delete a letter from each string in the splits list.\n",
        "What this does is effectively delete each possible letter from the original word being edited.\n"
      ]
    },
    {
      "cell_type": "code",
      "metadata": {
        "colab": {
          "base_uri": "https://localhost:8080/"
        },
        "id": "yMdPDei1UIdv",
        "outputId": "110e59e9-a834-4c1f-840c-93eea2d235b5"
      },
      "source": [
        "# deletes with a loop\n",
        "splits = splits_a\n",
        "deletes = []\n",
        "\n",
        "print('word : ', word)\n",
        "for L,R in splits:\n",
        "    if R:\n",
        "        print(L + R[1:], ' <-- delete ', R[0])"
      ],
      "execution_count": 4,
      "outputs": [
        {
          "output_type": "stream",
          "name": "stdout",
          "text": [
            "word :  dearz\n",
            "earz  <-- delete  d\n",
            "darz  <-- delete  e\n",
            "derz  <-- delete  a\n",
            "deaz  <-- delete  r\n",
            "dear  <-- delete  z\n"
          ]
        }
      ]
    },
    {
      "cell_type": "markdown",
      "metadata": {
        "id": "tgyNF3BKTj2_"
      },
      "source": [
        "It's worth taking a closer look at how this is excecuting a 'delete'.\n",
        "Taking the first item from the splits list :"
      ]
    },
    {
      "cell_type": "code",
      "metadata": {
        "colab": {
          "base_uri": "https://localhost:8080/"
        },
        "id": "3CqdhF7IUSxs",
        "outputId": "fe29b3c6-dff7-4771-a0ee-fe7377d44229"
      },
      "source": [
        "# breaking it down\n",
        "print('word : ', word)\n",
        "one_split = splits[0]\n",
        "print('first item from the splits list : ', one_split)\n",
        "L = one_split[0]\n",
        "R = one_split[1]\n",
        "print('L : ', L)\n",
        "print('R : ', R)\n",
        "print('*** now implicit delete by excluding the leading letter ***')\n",
        "print('L + R[1:] : ',L + R[1:], ' <-- delete ', R[0])"
      ],
      "execution_count": 5,
      "outputs": [
        {
          "output_type": "stream",
          "name": "stdout",
          "text": [
            "word :  dearz\n",
            "first item from the splits list :  ['', 'dearz']\n",
            "L :  \n",
            "R :  dearz\n",
            "*** now implicit delete by excluding the leading letter ***\n",
            "L + R[1:] :  earz  <-- delete  d\n"
          ]
        }
      ]
    },
    {
      "cell_type": "markdown",
      "metadata": {
        "id": "PS6gjbzuUU1Q"
      },
      "source": [
        "So the end result transforms 'dearz' to 'earz' by deleting the first character.\n",
        "And you use a loop (code block above) or a list comprehension (code block below) to do\n",
        "this for the entire splits list.\n"
      ]
    },
    {
      "cell_type": "code",
      "metadata": {
        "colab": {
          "base_uri": "https://localhost:8080/"
        },
        "id": "zlBYKM0tUW98",
        "outputId": "4e620e38-ba6a-4656-db7f-5c3891c14a8e"
      },
      "source": [
        "# deletes with a list comprehension\n",
        "splits = splits_a\n",
        "deletes = [L + R[1:] for L, R in splits if R]\n",
        "\n",
        "print(deletes)\n",
        "print('*** which is the same as ***')\n",
        "for i in deletes:\n",
        "    print(i)"
      ],
      "execution_count": 6,
      "outputs": [
        {
          "output_type": "stream",
          "name": "stdout",
          "text": [
            "['earz', 'darz', 'derz', 'deaz', 'dear']\n",
            "*** which is the same as ***\n",
            "earz\n",
            "darz\n",
            "derz\n",
            "deaz\n",
            "dear\n"
          ]
        }
      ]
    },
    {
      "cell_type": "markdown",
      "metadata": {
        "id": "I4WUpcjIUdDz"
      },
      "source": [
        "**Next,** step will be to filter this list for candidate words found in a vocabulary.\n",
        "\n",
        "**Remember,** we already have a list of candidate strings, some of which are certainly not actual words might find in our vocabulary !\n",
        "\n",
        "**So,**from the above list earz, darz, derz, deaz, dear.\n",
        "We're really only interested in dear."
      ]
    },
    {
      "cell_type": "code",
      "metadata": {
        "colab": {
          "base_uri": "https://localhost:8080/"
        },
        "id": "7x1JOUK9cagc",
        "outputId": "18b17b0d-b683-4046-f16c-e31dae39e2d9"
      },
      "source": [
        "vocab = ['dean','deer','dear','fries','and','coke']\n",
        "edits = list(deletes)\n",
        "\n",
        "print('vocab : ', vocab)\n",
        "print('edits : ', edits)\n",
        "\n",
        "candidates=[]\n",
        "candidates = set(vocab).intersection(set(edits))\n",
        "print('candidate words : ', candidates)"
      ],
      "execution_count": 7,
      "outputs": [
        {
          "output_type": "stream",
          "name": "stdout",
          "text": [
            "vocab :  ['dean', 'deer', 'dear', 'fries', 'and', 'coke']\n",
            "edits :  ['earz', 'darz', 'derz', 'deaz', 'dear']\n",
            "candidate words :  {'dear'}\n"
          ]
        }
      ]
    },
    {
      "cell_type": "markdown",
      "metadata": {
        "id": "6lPbcnhXUm2I"
      },
      "source": [
        "**Summary**\n",
        "\n",
        "\n",
        "1.   We've unpacked an integral part of the assignment by breaking down splits and edits, specifically looking at deletes here.\n",
        "2.   Implementation of the other edit types (insert, replace, switch) follows a similar methodology and should now feel somewhat familiar when we will see them.\n",
        "\n"
      ]
    }
  ]
}